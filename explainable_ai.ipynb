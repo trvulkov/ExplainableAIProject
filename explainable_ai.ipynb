{
 "cells": [
  {
   "cell_type": "code",
   "execution_count": null,
   "id": "08a82713",
   "metadata": {
    "scrolled": false
   },
   "outputs": [],
   "source": [
    "import os\n",
    "import numpy as np\n",
    "import json\n",
    "\n",
    "import tensorflow as tf\n",
    "from tensorflow.keras.preprocessing.image import load_img, img_to_array, array_to_img\n",
    "from tensorflow.keras.applications.resnet50 import ResNet50, preprocess_input, decode_predictions\n",
    "#from tensorflow.keras.applications.mobilenet_v2 import MobileNetV2, preprocess_input, decode_predictions\n",
    "from tensorflow.keras.datasets import mnist\n",
    "\n",
    "from PIL import Image as PilImage\n",
    "\n",
    "from omnixai.data.image import Image\n",
    "from omnixai.preprocessing.image import Resize\n",
    "from omnixai.explainers.vision import IntegratedGradientImage\n",
    "from omnixai.explainers.vision import GradCAM\n",
    "from omnixai.explainers.vision import ShapImage\n",
    "from omnixai.explainers.vision import LimeImage"
   ]
  },
  {
   "cell_type": "markdown",
   "id": "eb2a7e40",
   "metadata": {},
   "source": [
    "## ResNet50 explanations"
   ]
  },
  {
   "cell_type": "code",
   "execution_count": null,
   "id": "5e142b4e",
   "metadata": {
    "scrolled": false
   },
   "outputs": [],
   "source": [
    "def load_image(path):\n",
    "    return Resize((224, 224)).transform(Image(PilImage.open(path).convert('RGB')))\n",
    "\n",
    "def preprocess(images):\n",
    "    data = [np.expand_dims(img_to_array(img.to_pil()), axis=0) for img in images]\n",
    "    data = np.concatenate(data, axis=0)\n",
    "    preprocess_input(data)\n",
    "    \n",
    "    return data\n",
    "\n",
    "img_dir = os.path.join(os.getcwd(), 'images')\n",
    "with open('imagenet_class_index.json', 'r') as classes:\n",
    "    class_idx = json.load(classes)\n",
    "    idx2label = [class_idx[str(k)][1] for k in range(len(class_idx))]"
   ]
  },
  {
   "cell_type": "code",
   "execution_count": null,
   "id": "e183b557",
   "metadata": {
    "scrolled": false
   },
   "outputs": [],
   "source": [
    "resnet = ResNet50(weights = 'imagenet')\n",
    "gradcam = GradCAM(model = resnet, target_layer = resnet.layers[-5], preprocess_function = preprocess)\n",
    "integrated_gradients = IntegratedGradientImage(model = resnet, preprocess_function = preprocess)\n",
    "\n",
    "def predict_and_explain(img_path, explainer):\n",
    "    img = load_image(os.path.join(img_dir, img_path))\n",
    "    print(decode_predictions(resnet.predict(preprocess(img)), top=2))\n",
    "    explainer.explain(img).ipython_plot(index=0, class_names = idx2label)"
   ]
  },
  {
   "cell_type": "markdown",
   "id": "33c28f6c",
   "metadata": {},
   "source": [
    "### GradCam"
   ]
  },
  {
   "cell_type": "code",
   "execution_count": null,
   "id": "599fe0b2",
   "metadata": {
    "scrolled": false
   },
   "outputs": [],
   "source": [
    "predict_and_explain('n02088364_beagle.JPEG', gradcam)"
   ]
  },
  {
   "cell_type": "code",
   "execution_count": null,
   "id": "06de3b0b",
   "metadata": {
    "scrolled": false
   },
   "outputs": [],
   "source": [
    "predict_and_explain('n01531178_goldfinch.JPEG', gradcam)"
   ]
  },
  {
   "cell_type": "code",
   "execution_count": null,
   "id": "5adc4a17",
   "metadata": {
    "scrolled": false
   },
   "outputs": [],
   "source": [
    "predict_and_explain('n02119789_kit_fox.JPEG', gradcam)"
   ]
  },
  {
   "cell_type": "code",
   "execution_count": null,
   "id": "a7207e87",
   "metadata": {
    "scrolled": false
   },
   "outputs": [],
   "source": [
    "dog_cat = load_image(os.path.join(img_dir, 'dog_cat.png'))\n",
    "print(decode_predictions(resnet.predict(preprocess(dog_cat)), top=2))\n",
    "\n",
    "gradcam.explain(dog_cat).ipython_plot(index=0, class_names = idx2label)\n",
    "gradcam.explain(dog_cat, y=[243]).ipython_plot(index=0, class_names = idx2label) # 243 - bull mastiff \n",
    "gradcam.explain(dog_cat, y=[281]).ipython_plot(index=0, class_names = idx2label) # 281 - tabby, tabby cat"
   ]
  },
  {
   "cell_type": "code",
   "execution_count": null,
   "id": "081ce131",
   "metadata": {
    "scrolled": false
   },
   "outputs": [],
   "source": [
    "predict_and_explain('n01806143_peacock.JPEG', gradcam)"
   ]
  },
  {
   "cell_type": "code",
   "execution_count": null,
   "id": "a722acad",
   "metadata": {
    "scrolled": false
   },
   "outputs": [],
   "source": [
    "predict_and_explain('n01695060_Komodo_dragon.JPEG', gradcam)"
   ]
  },
  {
   "cell_type": "code",
   "execution_count": null,
   "id": "9fe8cd5f",
   "metadata": {
    "scrolled": false
   },
   "outputs": [],
   "source": [
    "gradcam2 = GradCAM(model = resnet, target_layer = resnet.layers[-3], preprocess_function = preprocess)\n",
    "predict_and_explain('n01695060_Komodo_dragon.JPEG', gradcam2)"
   ]
  },
  {
   "cell_type": "code",
   "execution_count": null,
   "id": "975aa4e5",
   "metadata": {
    "scrolled": false
   },
   "outputs": [],
   "source": [
    "predict_and_explain('american_egret.jpg', gradcam)"
   ]
  },
  {
   "cell_type": "code",
   "execution_count": null,
   "id": "26751370",
   "metadata": {
    "scrolled": false
   },
   "outputs": [],
   "source": [
    "predict_and_explain('n02087046_toy_terrier.JPEG', gradcam)"
   ]
  },
  {
   "cell_type": "markdown",
   "id": "cb750e15",
   "metadata": {},
   "source": [
    "### Integrated Gradients"
   ]
  },
  {
   "cell_type": "code",
   "execution_count": null,
   "id": "4072de28",
   "metadata": {
    "scrolled": false
   },
   "outputs": [],
   "source": [
    "predict_and_explain('n02088364_beagle.JPEG', integrated_gradients)"
   ]
  },
  {
   "cell_type": "code",
   "execution_count": null,
   "id": "d0551d17",
   "metadata": {
    "scrolled": false
   },
   "outputs": [],
   "source": [
    "predict_and_explain('dog_cat.png', integrated_gradients)"
   ]
  },
  {
   "cell_type": "code",
   "execution_count": null,
   "id": "7f94d0cd",
   "metadata": {
    "scrolled": false
   },
   "outputs": [],
   "source": [
    "predict_and_explain('n01695060_Komodo_dragon.JPEG', integrated_gradients)"
   ]
  },
  {
   "cell_type": "code",
   "execution_count": null,
   "id": "1aed6048",
   "metadata": {
    "scrolled": false
   },
   "outputs": [],
   "source": [
    "predict_and_explain('american_egret.jpg', integrated_gradients)"
   ]
  },
  {
   "cell_type": "markdown",
   "id": "fa5a122e",
   "metadata": {},
   "source": [
    "### LIME"
   ]
  },
  {
   "cell_type": "code",
   "execution_count": null,
   "id": "90ccc7b6",
   "metadata": {
    "scrolled": false
   },
   "outputs": [],
   "source": [
    "lime = LimeImage(predict_function= lambda images: resnet.predict(preprocess(images)))"
   ]
  },
  {
   "cell_type": "code",
   "execution_count": null,
   "id": "00aab936",
   "metadata": {
    "scrolled": true
   },
   "outputs": [],
   "source": [
    "lime.explain(load_image(os.path.join(img_dir, 'n02088364_beagle.JPEG')), hide_color=0, num_samples=1000).ipython_plot(index=0, class_names=idx2label)"
   ]
  },
  {
   "cell_type": "code",
   "execution_count": null,
   "id": "42ce3581",
   "metadata": {
    "scrolled": true
   },
   "outputs": [],
   "source": [
    "lime.explain(load_image(os.path.join(img_dir, 'dog_cat.png')), hide_color=0, num_samples=1000).ipython_plot(index=0, class_names=idx2label)"
   ]
  },
  {
   "cell_type": "code",
   "execution_count": null,
   "id": "c5b0af79",
   "metadata": {
    "scrolled": true
   },
   "outputs": [],
   "source": [
    "lime.explain(load_image(os.path.join(img_dir, 'n01806143_peacock.JPEG')), hide_color=0, num_samples=1000).ipython_plot(index=0, class_names=idx2label)"
   ]
  },
  {
   "cell_type": "code",
   "execution_count": null,
   "id": "0c0d0916",
   "metadata": {
    "scrolled": true
   },
   "outputs": [],
   "source": [
    "lime.explain(load_image(os.path.join(img_dir, 'n01695060_Komodo_dragon.JPEG')), hide_color=0, num_samples=1000).ipython_plot(index=0, class_names=idx2label)"
   ]
  },
  {
   "cell_type": "code",
   "execution_count": null,
   "id": "9faefc64",
   "metadata": {
    "scrolled": true
   },
   "outputs": [],
   "source": [
    "lime.explain(load_image(os.path.join(img_dir, 'american_egret.jpg')), hide_color=0, num_samples=1000).ipython_plot(index=0, class_names=idx2label)"
   ]
  },
  {
   "cell_type": "code",
   "execution_count": null,
   "id": "172421de",
   "metadata": {
    "scrolled": true
   },
   "outputs": [],
   "source": [
    "lime.explain(load_image(os.path.join(img_dir, 'n02087046_toy_terrier.JPEG')), hide_color=0, num_samples=1000).ipython_plot(index=0, class_names=idx2label)"
   ]
  },
  {
   "cell_type": "markdown",
   "id": "214e872d",
   "metadata": {},
   "source": [
    "## MNIST explanations with SHAP"
   ]
  },
  {
   "cell_type": "code",
   "execution_count": null,
   "id": "3f75c5fc",
   "metadata": {
    "scrolled": false
   },
   "outputs": [],
   "source": [
    "import shap\n",
    "\n",
    "mnist_model = tf.keras.models.load_model('Simple_MNIST_convnet')\n",
    "(x_train, _), (x_test, _) = mnist.load_data()\n",
    "\n",
    "img_rows, img_cols = 28, 28\n",
    "x_train = x_train.reshape(x_train.shape[0], img_rows, img_cols, 1)\n",
    "x_test = x_test.reshape(x_test.shape[0], img_rows, img_cols, 1)\n",
    "input_shape = (img_rows, img_cols, 1)\n",
    "\n",
    "x_train = x_train.astype('float32')\n",
    "x_test = x_test.astype('float32')\n",
    "x_train /= 255\n",
    "x_test /= 255"
   ]
  },
  {
   "cell_type": "code",
   "execution_count": null,
   "id": "7c7d9c83",
   "metadata": {
    "scrolled": false
   },
   "outputs": [],
   "source": [
    "background = x_train[np.random.choice(x_train.shape[0], 100, replace=False)]\n",
    "shap1 = shap.DeepExplainer(mnist_model, background)"
   ]
  },
  {
   "cell_type": "code",
   "execution_count": null,
   "id": "331905ec",
   "metadata": {},
   "outputs": [],
   "source": [
    "shap.image_plot(shap1.shap_values(x_test[0:10]), -x_test[0:10])"
   ]
  },
  {
   "cell_type": "code",
   "execution_count": null,
   "id": "7f9a1e72",
   "metadata": {},
   "outputs": [],
   "source": [
    "shap.image_plot(shap1.shap_values(x_test[0:5]), -x_test[0:5])"
   ]
  },
  {
   "cell_type": "code",
   "execution_count": null,
   "id": "f862170e",
   "metadata": {
    "scrolled": false
   },
   "outputs": [],
   "source": [
    "_, (x_test, _) = mnist.load_data()\n",
    "    \n",
    "x_test = Image(x_test.astype('float32'), batched=True)\n",
    "\n",
    "shap2 = ShapImage(model = mnist_model, preprocess_function = lambda x: np.expand_dims(x.to_numpy() / 255, axis=-1))\n",
    "explanations = shap2.explain(x_test[0:10])"
   ]
  },
  {
   "cell_type": "code",
   "execution_count": null,
   "id": "1fbb823f",
   "metadata": {
    "scrolled": false
   },
   "outputs": [],
   "source": [
    "explanations.ipython_plot(index = 0)"
   ]
  },
  {
   "cell_type": "code",
   "execution_count": null,
   "id": "a401d501",
   "metadata": {
    "scrolled": false
   },
   "outputs": [],
   "source": [
    "explanations.ipython_plot(index = 3)"
   ]
  },
  {
   "cell_type": "code",
   "execution_count": null,
   "id": "7882df04",
   "metadata": {
    "scrolled": false
   },
   "outputs": [],
   "source": [
    "explanations.ipython_plot(index = 4)"
   ]
  },
  {
   "cell_type": "code",
   "execution_count": null,
   "id": "ea987304",
   "metadata": {
    "scrolled": false
   },
   "outputs": [],
   "source": [
    "explanations.ipython_plot(index = 9)"
   ]
  },
  {
   "cell_type": "code",
   "execution_count": null,
   "id": "024d134c",
   "metadata": {
    "scrolled": false
   },
   "outputs": [],
   "source": [
    "explanations.ipython_plot(index = 8)"
   ]
  },
  {
   "cell_type": "code",
   "execution_count": null,
   "id": "3a9dd734",
   "metadata": {
    "scrolled": false
   },
   "outputs": [],
   "source": []
  }
 ],
 "metadata": {
  "kernelspec": {
   "display_name": "Python 3 (ipykernel)",
   "language": "python",
   "name": "python3"
  },
  "language_info": {
   "codemirror_mode": {
    "name": "ipython",
    "version": 3
   },
   "file_extension": ".py",
   "mimetype": "text/x-python",
   "name": "python",
   "nbconvert_exporter": "python",
   "pygments_lexer": "ipython3",
   "version": "3.9.13"
  },
  "widgets": {
   "application/vnd.jupyter.widget-state+json": {
    "state": {
     "02a4717769504439bf3d5b69987705cc": {
      "model_module": "@jupyter-widgets/controls",
      "model_module_version": "1.5.0",
      "model_name": "FloatProgressModel",
      "state": {
       "bar_style": "success",
       "layout": "IPY_MODEL_7ecdf3c25e4d47bc8df47e8f34a2638d",
       "max": 1000,
       "style": "IPY_MODEL_cb9e66729b264aaf8da220bc7e184dc6",
       "value": 1000
      }
     },
     "035fd0e3205346d58b00bb2c51a13c03": {
      "model_module": "@jupyter-widgets/base",
      "model_module_version": "1.2.0",
      "model_name": "LayoutModel",
      "state": {}
     },
     "0738d58eb67d4a999d3a4ecca43bfd93": {
      "model_module": "@jupyter-widgets/controls",
      "model_module_version": "1.5.0",
      "model_name": "HBoxModel",
      "state": {
       "children": [
        "IPY_MODEL_89da08438b13493882471c47cdb9a7c5",
        "IPY_MODEL_d24a7501ee404ca78bbb917ed8d958ee",
        "IPY_MODEL_50df8a944d324966927287814d28fe19"
       ],
       "layout": "IPY_MODEL_c4ed037cb9ce4bb8902d5f51ae7e1470"
      }
     },
     "08e8f1f279ce488498ebc64780e4364a": {
      "model_module": "@jupyter-widgets/base",
      "model_module_version": "1.2.0",
      "model_name": "LayoutModel",
      "state": {}
     },
     "09806b51b26b44f1b027a1619106c29e": {
      "model_module": "@jupyter-widgets/controls",
      "model_module_version": "1.5.0",
      "model_name": "FloatProgressModel",
      "state": {
       "bar_style": "success",
       "layout": "IPY_MODEL_035fd0e3205346d58b00bb2c51a13c03",
       "max": 1000,
       "style": "IPY_MODEL_e6158e781da74ac0a372b7f6a64bea0b",
       "value": 1000
      }
     },
     "0dc5d1d3efce4673a7c5e4b11bce64a9": {
      "model_module": "@jupyter-widgets/base",
      "model_module_version": "1.2.0",
      "model_name": "LayoutModel",
      "state": {}
     },
     "0e747a406b5b4dcab1ad56bf049a1cb6": {
      "model_module": "@jupyter-widgets/controls",
      "model_module_version": "1.5.0",
      "model_name": "HTMLModel",
      "state": {
       "layout": "IPY_MODEL_d47c2f3e47944490aac251ba70caa06e",
       "style": "IPY_MODEL_8b26a60d8e984ae0baeee85b1ecd64bd",
       "value": "100%"
      }
     },
     "0f39a52c48084b51b613bdbeeb817b87": {
      "model_module": "@jupyter-widgets/controls",
      "model_module_version": "1.5.0",
      "model_name": "HBoxModel",
      "state": {
       "children": [
        "IPY_MODEL_986f7b26263a4de2b68fcf98dcf6322e",
        "IPY_MODEL_69a6147250c640829462ac0da7cacc0f",
        "IPY_MODEL_ed287ae65d3b440cb94ad0e21bec0fec"
       ],
       "layout": "IPY_MODEL_e6ba5de6a3b74f2182c3c3c218497e34"
      }
     },
     "102732dfe9e44d1189c5439c029a2f6b": {
      "model_module": "@jupyter-widgets/controls",
      "model_module_version": "1.5.0",
      "model_name": "HTMLModel",
      "state": {
       "layout": "IPY_MODEL_8e6dc4a8b9934bb3bf8c983a692e6fda",
       "style": "IPY_MODEL_273b0fa008c0457ebf909f03fa0c79b0",
       "value": " 1000/1000 [01:06&lt;00:00, 14.38it/s]"
      }
     },
     "11948083d508459a9e68c35826525d1a": {
      "model_module": "@jupyter-widgets/base",
      "model_module_version": "1.2.0",
      "model_name": "LayoutModel",
      "state": {}
     },
     "1dad9a9652ad485288260f8f5c0d4801": {
      "model_module": "@jupyter-widgets/controls",
      "model_module_version": "1.5.0",
      "model_name": "HBoxModel",
      "state": {
       "children": [
        "IPY_MODEL_0e747a406b5b4dcab1ad56bf049a1cb6",
        "IPY_MODEL_09806b51b26b44f1b027a1619106c29e",
        "IPY_MODEL_aa968d9b7f9b4593a9ce06cd8139fcb1"
       ],
       "layout": "IPY_MODEL_b0af118838db4a1894ff62d68a1673a7"
      }
     },
     "1ded08d7b71b4b16947eb9471879ea86": {
      "model_module": "@jupyter-widgets/controls",
      "model_module_version": "1.5.0",
      "model_name": "DescriptionStyleModel",
      "state": {
       "description_width": ""
      }
     },
     "1fbc4169e67d481ea5cdcdd315b90899": {
      "model_module": "@jupyter-widgets/base",
      "model_module_version": "1.2.0",
      "model_name": "LayoutModel",
      "state": {}
     },
     "21e76b70698b4e0c879dcebfe0ce2f08": {
      "model_module": "@jupyter-widgets/controls",
      "model_module_version": "1.5.0",
      "model_name": "HBoxModel",
      "state": {
       "children": [
        "IPY_MODEL_5cb941507aa4492db06f7037e7daf80f",
        "IPY_MODEL_e60fe6d1e86b48169a6fbe4effa50037",
        "IPY_MODEL_d136bcd0aa214258b1ea92bca14df123"
       ],
       "layout": "IPY_MODEL_8fff3edde582402ba2bfe5effdda977f"
      }
     },
     "22433ae71c9343039e7c7bc4864a9fa7": {
      "model_module": "@jupyter-widgets/controls",
      "model_module_version": "1.5.0",
      "model_name": "DescriptionStyleModel",
      "state": {
       "description_width": ""
      }
     },
     "234034dd3b4b4691bf96ce6911bcc781": {
      "model_module": "@jupyter-widgets/controls",
      "model_module_version": "1.5.0",
      "model_name": "DescriptionStyleModel",
      "state": {
       "description_width": ""
      }
     },
     "23a55502ac824b1184f9756e9d5318d8": {
      "model_module": "@jupyter-widgets/base",
      "model_module_version": "1.2.0",
      "model_name": "LayoutModel",
      "state": {}
     },
     "273b0fa008c0457ebf909f03fa0c79b0": {
      "model_module": "@jupyter-widgets/controls",
      "model_module_version": "1.5.0",
      "model_name": "DescriptionStyleModel",
      "state": {
       "description_width": ""
      }
     },
     "27ef5526690d4df4bc25ed1495453f18": {
      "model_module": "@jupyter-widgets/controls",
      "model_module_version": "1.5.0",
      "model_name": "HTMLModel",
      "state": {
       "layout": "IPY_MODEL_0dc5d1d3efce4673a7c5e4b11bce64a9",
       "style": "IPY_MODEL_234034dd3b4b4691bf96ce6911bcc781",
       "value": "100%"
      }
     },
     "2cac77b01f8f4f97991f2b5b284b6637": {
      "model_module": "@jupyter-widgets/base",
      "model_module_version": "1.2.0",
      "model_name": "LayoutModel",
      "state": {}
     },
     "316ef7e336af443ba4a4379918673d3a": {
      "model_module": "@jupyter-widgets/controls",
      "model_module_version": "1.5.0",
      "model_name": "FloatProgressModel",
      "state": {
       "bar_style": "success",
       "layout": "IPY_MODEL_a5a98e68f1ce45beb4a5a48593ff904c",
       "max": 1000,
       "style": "IPY_MODEL_3fc78713e43642918db767064eb75655",
       "value": 1000
      }
     },
     "3fc78713e43642918db767064eb75655": {
      "model_module": "@jupyter-widgets/controls",
      "model_module_version": "1.5.0",
      "model_name": "ProgressStyleModel",
      "state": {
       "description_width": ""
      }
     },
     "406f906e75d949539de9bc3395a0b6a2": {
      "model_module": "@jupyter-widgets/base",
      "model_module_version": "1.2.0",
      "model_name": "LayoutModel",
      "state": {}
     },
     "408d0a44bc224fc9872f7671cb84e0ad": {
      "model_module": "@jupyter-widgets/controls",
      "model_module_version": "1.5.0",
      "model_name": "ProgressStyleModel",
      "state": {
       "description_width": ""
      }
     },
     "4c27364dc6b04ad086ec297ebcc1af67": {
      "model_module": "@jupyter-widgets/controls",
      "model_module_version": "1.5.0",
      "model_name": "HBoxModel",
      "state": {
       "children": [
        "IPY_MODEL_27ef5526690d4df4bc25ed1495453f18",
        "IPY_MODEL_df1f0e83f5214b398605da412a8aa05c",
        "IPY_MODEL_ecf204d2216c4b5c99d1bf285d63c841"
       ],
       "layout": "IPY_MODEL_99f31a5864674ad08908062c35ebb8bf"
      }
     },
     "50df8a944d324966927287814d28fe19": {
      "model_module": "@jupyter-widgets/controls",
      "model_module_version": "1.5.0",
      "model_name": "HTMLModel",
      "state": {
       "layout": "IPY_MODEL_80cd7ce9c56148a395607dec96518072",
       "style": "IPY_MODEL_fa162caa47ba4f019c88a306a58597f8",
       "value": " 1000/1000 [01:07&lt;00:00, 15.42it/s]"
      }
     },
     "514e9a7690a7403ab425be941601af79": {
      "model_module": "@jupyter-widgets/controls",
      "model_module_version": "1.5.0",
      "model_name": "DescriptionStyleModel",
      "state": {
       "description_width": ""
      }
     },
     "570d3894dbde4dbc94266270922195b1": {
      "model_module": "@jupyter-widgets/base",
      "model_module_version": "1.2.0",
      "model_name": "LayoutModel",
      "state": {}
     },
     "59fdff762eee4d5495d1d8bb5a0601a4": {
      "model_module": "@jupyter-widgets/controls",
      "model_module_version": "1.5.0",
      "model_name": "HBoxModel",
      "state": {
       "children": [
        "IPY_MODEL_88f2092386c6465e8c91b245acae05c0",
        "IPY_MODEL_316ef7e336af443ba4a4379918673d3a",
        "IPY_MODEL_ec8db7af38e24909a9fb290ca87cb02d"
       ],
       "layout": "IPY_MODEL_d12948aa562545938f62da26d5d21d34"
      }
     },
     "5cb941507aa4492db06f7037e7daf80f": {
      "model_module": "@jupyter-widgets/controls",
      "model_module_version": "1.5.0",
      "model_name": "HTMLModel",
      "state": {
       "layout": "IPY_MODEL_1fbc4169e67d481ea5cdcdd315b90899",
       "style": "IPY_MODEL_9bc3974fabb64c9a9619fe169d71e2df",
       "value": "100%"
      }
     },
     "5f79dfb293ac4d3e9a9ffc11975ffe14": {
      "model_module": "@jupyter-widgets/controls",
      "model_module_version": "1.5.0",
      "model_name": "HBoxModel",
      "state": {
       "children": [
        "IPY_MODEL_b617c247cd1c44eb812f42f1cdb4a27a",
        "IPY_MODEL_d3a7bf3cc38d452e94f05199d0309b1e",
        "IPY_MODEL_fb4e54ac6a1f402a9ead30f616100143"
       ],
       "layout": "IPY_MODEL_93bac8339dfa4d54bf51a8dafd1fb3e7"
      }
     },
     "5fce28d3789c4f8091e4efed2adae81f": {
      "model_module": "@jupyter-widgets/controls",
      "model_module_version": "1.5.0",
      "model_name": "HTMLModel",
      "state": {
       "layout": "IPY_MODEL_962bf951449a4474bf7782d8417a19aa",
       "style": "IPY_MODEL_a5d4eeed0477493d9f291cdcd8b1324f",
       "value": " 1000/1000 [01:09&lt;00:00, 14.61it/s]"
      }
     },
     "6122931ca71446589d158fd3458538c4": {
      "model_module": "@jupyter-widgets/controls",
      "model_module_version": "1.5.0",
      "model_name": "ProgressStyleModel",
      "state": {
       "description_width": ""
      }
     },
     "62e48aedd40246508d353fbd1ebcba7f": {
      "model_module": "@jupyter-widgets/base",
      "model_module_version": "1.2.0",
      "model_name": "LayoutModel",
      "state": {}
     },
     "65d9fe9da7d44864bac8be1ffddd934f": {
      "model_module": "@jupyter-widgets/controls",
      "model_module_version": "1.5.0",
      "model_name": "ProgressStyleModel",
      "state": {
       "description_width": ""
      }
     },
     "69a6147250c640829462ac0da7cacc0f": {
      "model_module": "@jupyter-widgets/controls",
      "model_module_version": "1.5.0",
      "model_name": "FloatProgressModel",
      "state": {
       "bar_style": "success",
       "layout": "IPY_MODEL_a7fc9c355b7a4ee09f3e1ec5379fd3de",
       "max": 1000,
       "style": "IPY_MODEL_6122931ca71446589d158fd3458538c4",
       "value": 1000
      }
     },
     "6d3597655d7a4dd8b57957c4d99f6a9e": {
      "model_module": "@jupyter-widgets/base",
      "model_module_version": "1.2.0",
      "model_name": "LayoutModel",
      "state": {}
     },
     "6f23cbe287c9428a8627dbfe944fee27": {
      "model_module": "@jupyter-widgets/controls",
      "model_module_version": "1.5.0",
      "model_name": "ProgressStyleModel",
      "state": {
       "description_width": ""
      }
     },
     "6f3babd10f694709b0f18330e5891571": {
      "model_module": "@jupyter-widgets/base",
      "model_module_version": "1.2.0",
      "model_name": "LayoutModel",
      "state": {}
     },
     "7269fb9e0e0743f6bae34b3a04eab3c3": {
      "model_module": "@jupyter-widgets/base",
      "model_module_version": "1.2.0",
      "model_name": "LayoutModel",
      "state": {}
     },
     "76594a940f1e4fcf931d9bff26a52aee": {
      "model_module": "@jupyter-widgets/base",
      "model_module_version": "1.2.0",
      "model_name": "LayoutModel",
      "state": {}
     },
     "799c321e4e1e490d94d24615cffced2c": {
      "model_module": "@jupyter-widgets/controls",
      "model_module_version": "1.5.0",
      "model_name": "HBoxModel",
      "state": {
       "children": [
        "IPY_MODEL_990c032263a64f1aa52e7807a1a8dc48",
        "IPY_MODEL_d682253e4d754884a0c5e6dc73f4dbf1",
        "IPY_MODEL_102732dfe9e44d1189c5439c029a2f6b"
       ],
       "layout": "IPY_MODEL_e735b2acfacd4b3a87716b22bac6b7cd"
      }
     },
     "7ad64514ae4e4a548faae6b4198d8419": {
      "model_module": "@jupyter-widgets/controls",
      "model_module_version": "1.5.0",
      "model_name": "HTMLModel",
      "state": {
       "layout": "IPY_MODEL_7269fb9e0e0743f6bae34b3a04eab3c3",
       "style": "IPY_MODEL_f122724d092545b08bddeb6711bb768c",
       "value": "100%"
      }
     },
     "7ecdf3c25e4d47bc8df47e8f34a2638d": {
      "model_module": "@jupyter-widgets/base",
      "model_module_version": "1.2.0",
      "model_name": "LayoutModel",
      "state": {}
     },
     "7fa7c8c938174b45868d25cd4f311065": {
      "model_module": "@jupyter-widgets/base",
      "model_module_version": "1.2.0",
      "model_name": "LayoutModel",
      "state": {}
     },
     "80a4741a72ef4cb694f22cb22a7012d3": {
      "model_module": "@jupyter-widgets/controls",
      "model_module_version": "1.5.0",
      "model_name": "DescriptionStyleModel",
      "state": {
       "description_width": ""
      }
     },
     "80cd7ce9c56148a395607dec96518072": {
      "model_module": "@jupyter-widgets/base",
      "model_module_version": "1.2.0",
      "model_name": "LayoutModel",
      "state": {}
     },
     "80f51dcbf0b242c7972e4b6a55455508": {
      "model_module": "@jupyter-widgets/controls",
      "model_module_version": "1.5.0",
      "model_name": "ProgressStyleModel",
      "state": {
       "description_width": ""
      }
     },
     "83df617c74a94f558c5a7e9c00f9e619": {
      "model_module": "@jupyter-widgets/controls",
      "model_module_version": "1.5.0",
      "model_name": "DescriptionStyleModel",
      "state": {
       "description_width": ""
      }
     },
     "88f2092386c6465e8c91b245acae05c0": {
      "model_module": "@jupyter-widgets/controls",
      "model_module_version": "1.5.0",
      "model_name": "HTMLModel",
      "state": {
       "layout": "IPY_MODEL_93f686acc5a641fb8dc47582fc434d93",
       "style": "IPY_MODEL_80a4741a72ef4cb694f22cb22a7012d3",
       "value": "100%"
      }
     },
     "89da08438b13493882471c47cdb9a7c5": {
      "model_module": "@jupyter-widgets/controls",
      "model_module_version": "1.5.0",
      "model_name": "HTMLModel",
      "state": {
       "layout": "IPY_MODEL_6f3babd10f694709b0f18330e5891571",
       "style": "IPY_MODEL_d027fb387dd544f6a168240386b78e30",
       "value": "100%"
      }
     },
     "8b26a60d8e984ae0baeee85b1ecd64bd": {
      "model_module": "@jupyter-widgets/controls",
      "model_module_version": "1.5.0",
      "model_name": "DescriptionStyleModel",
      "state": {
       "description_width": ""
      }
     },
     "8d5b8f43c9f14d91bd5a5b1b8d806447": {
      "model_module": "@jupyter-widgets/base",
      "model_module_version": "1.2.0",
      "model_name": "LayoutModel",
      "state": {}
     },
     "8d8488db5f804ceb9932214ceb1052c8": {
      "model_module": "@jupyter-widgets/controls",
      "model_module_version": "1.5.0",
      "model_name": "HTMLModel",
      "state": {
       "layout": "IPY_MODEL_7fa7c8c938174b45868d25cd4f311065",
       "style": "IPY_MODEL_22433ae71c9343039e7c7bc4864a9fa7",
       "value": "100%"
      }
     },
     "8e6dc4a8b9934bb3bf8c983a692e6fda": {
      "model_module": "@jupyter-widgets/base",
      "model_module_version": "1.2.0",
      "model_name": "LayoutModel",
      "state": {}
     },
     "8fff3edde582402ba2bfe5effdda977f": {
      "model_module": "@jupyter-widgets/base",
      "model_module_version": "1.2.0",
      "model_name": "LayoutModel",
      "state": {}
     },
     "93bac8339dfa4d54bf51a8dafd1fb3e7": {
      "model_module": "@jupyter-widgets/base",
      "model_module_version": "1.2.0",
      "model_name": "LayoutModel",
      "state": {}
     },
     "93f686acc5a641fb8dc47582fc434d93": {
      "model_module": "@jupyter-widgets/base",
      "model_module_version": "1.2.0",
      "model_name": "LayoutModel",
      "state": {}
     },
     "962bf951449a4474bf7782d8417a19aa": {
      "model_module": "@jupyter-widgets/base",
      "model_module_version": "1.2.0",
      "model_name": "LayoutModel",
      "state": {}
     },
     "97fc5e232cb4440880a428e6ec4fe709": {
      "model_module": "@jupyter-widgets/controls",
      "model_module_version": "1.5.0",
      "model_name": "HBoxModel",
      "state": {
       "children": [
        "IPY_MODEL_8d8488db5f804ceb9932214ceb1052c8",
        "IPY_MODEL_02a4717769504439bf3d5b69987705cc",
        "IPY_MODEL_a9a79b76ebb84b18b860c147f18a691a"
       ],
       "layout": "IPY_MODEL_62e48aedd40246508d353fbd1ebcba7f"
      }
     },
     "986f7b26263a4de2b68fcf98dcf6322e": {
      "model_module": "@jupyter-widgets/controls",
      "model_module_version": "1.5.0",
      "model_name": "HTMLModel",
      "state": {
       "layout": "IPY_MODEL_e4bd3523723a4a87a095c9bd4dfed625",
       "style": "IPY_MODEL_ca7aa07d302e4c06b5195849b4af3ffb",
       "value": "100%"
      }
     },
     "990c032263a64f1aa52e7807a1a8dc48": {
      "model_module": "@jupyter-widgets/controls",
      "model_module_version": "1.5.0",
      "model_name": "HTMLModel",
      "state": {
       "layout": "IPY_MODEL_fc121db1bd5c403dbf9e28964fd607c4",
       "style": "IPY_MODEL_83df617c74a94f558c5a7e9c00f9e619",
       "value": "100%"
      }
     },
     "99b40986d0fc4e1f97def0b165a477ea": {
      "model_module": "@jupyter-widgets/controls",
      "model_module_version": "1.5.0",
      "model_name": "DescriptionStyleModel",
      "state": {
       "description_width": ""
      }
     },
     "99f31a5864674ad08908062c35ebb8bf": {
      "model_module": "@jupyter-widgets/base",
      "model_module_version": "1.2.0",
      "model_name": "LayoutModel",
      "state": {}
     },
     "9bc3974fabb64c9a9619fe169d71e2df": {
      "model_module": "@jupyter-widgets/controls",
      "model_module_version": "1.5.0",
      "model_name": "DescriptionStyleModel",
      "state": {
       "description_width": ""
      }
     },
     "a5a98e68f1ce45beb4a5a48593ff904c": {
      "model_module": "@jupyter-widgets/base",
      "model_module_version": "1.2.0",
      "model_name": "LayoutModel",
      "state": {}
     },
     "a5d4eeed0477493d9f291cdcd8b1324f": {
      "model_module": "@jupyter-widgets/controls",
      "model_module_version": "1.5.0",
      "model_name": "DescriptionStyleModel",
      "state": {
       "description_width": ""
      }
     },
     "a6900a7efdee45d78d42ca0432d17732": {
      "model_module": "@jupyter-widgets/controls",
      "model_module_version": "1.5.0",
      "model_name": "FloatProgressModel",
      "state": {
       "bar_style": "success",
       "layout": "IPY_MODEL_8d5b8f43c9f14d91bd5a5b1b8d806447",
       "max": 1000,
       "style": "IPY_MODEL_d4ea57e5d85c4561a9529c1b5652904d",
       "value": 1000
      }
     },
     "a7a97dd126504e778602bff12a443f41": {
      "model_module": "@jupyter-widgets/base",
      "model_module_version": "1.2.0",
      "model_name": "LayoutModel",
      "state": {}
     },
     "a7fc9c355b7a4ee09f3e1ec5379fd3de": {
      "model_module": "@jupyter-widgets/base",
      "model_module_version": "1.2.0",
      "model_name": "LayoutModel",
      "state": {}
     },
     "a9a79b76ebb84b18b860c147f18a691a": {
      "model_module": "@jupyter-widgets/controls",
      "model_module_version": "1.5.0",
      "model_name": "HTMLModel",
      "state": {
       "layout": "IPY_MODEL_08e8f1f279ce488498ebc64780e4364a",
       "style": "IPY_MODEL_f267afb9a5ae41d7a406c6c93cc77e97",
       "value": " 1000/1000 [01:05&lt;00:00, 15.11it/s]"
      }
     },
     "aa968d9b7f9b4593a9ce06cd8139fcb1": {
      "model_module": "@jupyter-widgets/controls",
      "model_module_version": "1.5.0",
      "model_name": "HTMLModel",
      "state": {
       "layout": "IPY_MODEL_11948083d508459a9e68c35826525d1a",
       "style": "IPY_MODEL_d32a36fcf4fe4db9992bdc0dbb29f84e",
       "value": " 1000/1000 [01:09&lt;00:00, 15.24it/s]"
      }
     },
     "b0af118838db4a1894ff62d68a1673a7": {
      "model_module": "@jupyter-widgets/base",
      "model_module_version": "1.2.0",
      "model_name": "LayoutModel",
      "state": {}
     },
     "b617c247cd1c44eb812f42f1cdb4a27a": {
      "model_module": "@jupyter-widgets/controls",
      "model_module_version": "1.5.0",
      "model_name": "HTMLModel",
      "state": {
       "layout": "IPY_MODEL_da9b58f7f32f445e812139a0874f17be",
       "style": "IPY_MODEL_1ded08d7b71b4b16947eb9471879ea86",
       "value": "100%"
      }
     },
     "c03fcce1d05a4b47adb6062178b1f45b": {
      "model_module": "@jupyter-widgets/base",
      "model_module_version": "1.2.0",
      "model_name": "LayoutModel",
      "state": {}
     },
     "c1775947a6c948108254a087b0af4b1e": {
      "model_module": "@jupyter-widgets/base",
      "model_module_version": "1.2.0",
      "model_name": "LayoutModel",
      "state": {}
     },
     "c4ed037cb9ce4bb8902d5f51ae7e1470": {
      "model_module": "@jupyter-widgets/base",
      "model_module_version": "1.2.0",
      "model_name": "LayoutModel",
      "state": {}
     },
     "c9691751731b4ba8bd7ab5f81a810a81": {
      "model_module": "@jupyter-widgets/base",
      "model_module_version": "1.2.0",
      "model_name": "LayoutModel",
      "state": {}
     },
     "ca7aa07d302e4c06b5195849b4af3ffb": {
      "model_module": "@jupyter-widgets/controls",
      "model_module_version": "1.5.0",
      "model_name": "DescriptionStyleModel",
      "state": {
       "description_width": ""
      }
     },
     "cb9e66729b264aaf8da220bc7e184dc6": {
      "model_module": "@jupyter-widgets/controls",
      "model_module_version": "1.5.0",
      "model_name": "ProgressStyleModel",
      "state": {
       "description_width": ""
      }
     },
     "cd580b01f38b4234867a3e4567c6fbd2": {
      "model_module": "@jupyter-widgets/controls",
      "model_module_version": "1.5.0",
      "model_name": "HBoxModel",
      "state": {
       "children": [
        "IPY_MODEL_7ad64514ae4e4a548faae6b4198d8419",
        "IPY_MODEL_a6900a7efdee45d78d42ca0432d17732",
        "IPY_MODEL_5fce28d3789c4f8091e4efed2adae81f"
       ],
       "layout": "IPY_MODEL_6d3597655d7a4dd8b57957c4d99f6a9e"
      }
     },
     "d027fb387dd544f6a168240386b78e30": {
      "model_module": "@jupyter-widgets/controls",
      "model_module_version": "1.5.0",
      "model_name": "DescriptionStyleModel",
      "state": {
       "description_width": ""
      }
     },
     "d12948aa562545938f62da26d5d21d34": {
      "model_module": "@jupyter-widgets/base",
      "model_module_version": "1.2.0",
      "model_name": "LayoutModel",
      "state": {}
     },
     "d136bcd0aa214258b1ea92bca14df123": {
      "model_module": "@jupyter-widgets/controls",
      "model_module_version": "1.5.0",
      "model_name": "HTMLModel",
      "state": {
       "layout": "IPY_MODEL_fba74b9b435d45ceac06095fd1c93b79",
       "style": "IPY_MODEL_d6175cccccb04160b94706bd2d2074e3",
       "value": " 1000/1000 [01:08&lt;00:00, 15.39it/s]"
      }
     },
     "d24a7501ee404ca78bbb917ed8d958ee": {
      "model_module": "@jupyter-widgets/controls",
      "model_module_version": "1.5.0",
      "model_name": "FloatProgressModel",
      "state": {
       "bar_style": "success",
       "layout": "IPY_MODEL_2cac77b01f8f4f97991f2b5b284b6637",
       "max": 1000,
       "style": "IPY_MODEL_65d9fe9da7d44864bac8be1ffddd934f",
       "value": 1000
      }
     },
     "d32a36fcf4fe4db9992bdc0dbb29f84e": {
      "model_module": "@jupyter-widgets/controls",
      "model_module_version": "1.5.0",
      "model_name": "DescriptionStyleModel",
      "state": {
       "description_width": ""
      }
     },
     "d3a7bf3cc38d452e94f05199d0309b1e": {
      "model_module": "@jupyter-widgets/controls",
      "model_module_version": "1.5.0",
      "model_name": "FloatProgressModel",
      "state": {
       "bar_style": "success",
       "layout": "IPY_MODEL_c9691751731b4ba8bd7ab5f81a810a81",
       "max": 1000,
       "style": "IPY_MODEL_408d0a44bc224fc9872f7671cb84e0ad",
       "value": 1000
      }
     },
     "d47c2f3e47944490aac251ba70caa06e": {
      "model_module": "@jupyter-widgets/base",
      "model_module_version": "1.2.0",
      "model_name": "LayoutModel",
      "state": {}
     },
     "d4ea57e5d85c4561a9529c1b5652904d": {
      "model_module": "@jupyter-widgets/controls",
      "model_module_version": "1.5.0",
      "model_name": "ProgressStyleModel",
      "state": {
       "description_width": ""
      }
     },
     "d6175cccccb04160b94706bd2d2074e3": {
      "model_module": "@jupyter-widgets/controls",
      "model_module_version": "1.5.0",
      "model_name": "DescriptionStyleModel",
      "state": {
       "description_width": ""
      }
     },
     "d682253e4d754884a0c5e6dc73f4dbf1": {
      "model_module": "@jupyter-widgets/controls",
      "model_module_version": "1.5.0",
      "model_name": "FloatProgressModel",
      "state": {
       "bar_style": "success",
       "layout": "IPY_MODEL_a7a97dd126504e778602bff12a443f41",
       "max": 1000,
       "style": "IPY_MODEL_6f23cbe287c9428a8627dbfe944fee27",
       "value": 1000
      }
     },
     "da9b58f7f32f445e812139a0874f17be": {
      "model_module": "@jupyter-widgets/base",
      "model_module_version": "1.2.0",
      "model_name": "LayoutModel",
      "state": {}
     },
     "df1f0e83f5214b398605da412a8aa05c": {
      "model_module": "@jupyter-widgets/controls",
      "model_module_version": "1.5.0",
      "model_name": "FloatProgressModel",
      "state": {
       "bar_style": "success",
       "layout": "IPY_MODEL_406f906e75d949539de9bc3395a0b6a2",
       "max": 1000,
       "style": "IPY_MODEL_80f51dcbf0b242c7972e4b6a55455508",
       "value": 1000
      }
     },
     "e4bd3523723a4a87a095c9bd4dfed625": {
      "model_module": "@jupyter-widgets/base",
      "model_module_version": "1.2.0",
      "model_name": "LayoutModel",
      "state": {}
     },
     "e60fe6d1e86b48169a6fbe4effa50037": {
      "model_module": "@jupyter-widgets/controls",
      "model_module_version": "1.5.0",
      "model_name": "FloatProgressModel",
      "state": {
       "bar_style": "success",
       "layout": "IPY_MODEL_570d3894dbde4dbc94266270922195b1",
       "max": 1000,
       "style": "IPY_MODEL_ff51e0468332439d98c555251f1f87f4",
       "value": 1000
      }
     },
     "e6158e781da74ac0a372b7f6a64bea0b": {
      "model_module": "@jupyter-widgets/controls",
      "model_module_version": "1.5.0",
      "model_name": "ProgressStyleModel",
      "state": {
       "description_width": ""
      }
     },
     "e6ba5de6a3b74f2182c3c3c218497e34": {
      "model_module": "@jupyter-widgets/base",
      "model_module_version": "1.2.0",
      "model_name": "LayoutModel",
      "state": {}
     },
     "e735b2acfacd4b3a87716b22bac6b7cd": {
      "model_module": "@jupyter-widgets/base",
      "model_module_version": "1.2.0",
      "model_name": "LayoutModel",
      "state": {}
     },
     "ec8db7af38e24909a9fb290ca87cb02d": {
      "model_module": "@jupyter-widgets/controls",
      "model_module_version": "1.5.0",
      "model_name": "HTMLModel",
      "state": {
       "layout": "IPY_MODEL_c1775947a6c948108254a087b0af4b1e",
       "style": "IPY_MODEL_fdc30801b6e34f44a3004b9a1a4ba850",
       "value": " 1000/1000 [01:13&lt;00:00, 14.15it/s]"
      }
     },
     "ecf204d2216c4b5c99d1bf285d63c841": {
      "model_module": "@jupyter-widgets/controls",
      "model_module_version": "1.5.0",
      "model_name": "HTMLModel",
      "state": {
       "layout": "IPY_MODEL_c03fcce1d05a4b47adb6062178b1f45b",
       "style": "IPY_MODEL_f3fce8c72efc450babaced9efb1f3b2b",
       "value": " 1000/1000 [01:11&lt;00:00, 15.49it/s]"
      }
     },
     "ed287ae65d3b440cb94ad0e21bec0fec": {
      "model_module": "@jupyter-widgets/controls",
      "model_module_version": "1.5.0",
      "model_name": "HTMLModel",
      "state": {
       "layout": "IPY_MODEL_23a55502ac824b1184f9756e9d5318d8",
       "style": "IPY_MODEL_514e9a7690a7403ab425be941601af79",
       "value": " 1000/1000 [01:07&lt;00:00, 15.04it/s]"
      }
     },
     "f122724d092545b08bddeb6711bb768c": {
      "model_module": "@jupyter-widgets/controls",
      "model_module_version": "1.5.0",
      "model_name": "DescriptionStyleModel",
      "state": {
       "description_width": ""
      }
     },
     "f267afb9a5ae41d7a406c6c93cc77e97": {
      "model_module": "@jupyter-widgets/controls",
      "model_module_version": "1.5.0",
      "model_name": "DescriptionStyleModel",
      "state": {
       "description_width": ""
      }
     },
     "f3fce8c72efc450babaced9efb1f3b2b": {
      "model_module": "@jupyter-widgets/controls",
      "model_module_version": "1.5.0",
      "model_name": "DescriptionStyleModel",
      "state": {
       "description_width": ""
      }
     },
     "fa162caa47ba4f019c88a306a58597f8": {
      "model_module": "@jupyter-widgets/controls",
      "model_module_version": "1.5.0",
      "model_name": "DescriptionStyleModel",
      "state": {
       "description_width": ""
      }
     },
     "fb4e54ac6a1f402a9ead30f616100143": {
      "model_module": "@jupyter-widgets/controls",
      "model_module_version": "1.5.0",
      "model_name": "HTMLModel",
      "state": {
       "layout": "IPY_MODEL_76594a940f1e4fcf931d9bff26a52aee",
       "style": "IPY_MODEL_99b40986d0fc4e1f97def0b165a477ea",
       "value": " 1000/1000 [01:06&lt;00:00, 14.80it/s]"
      }
     },
     "fba74b9b435d45ceac06095fd1c93b79": {
      "model_module": "@jupyter-widgets/base",
      "model_module_version": "1.2.0",
      "model_name": "LayoutModel",
      "state": {}
     },
     "fc121db1bd5c403dbf9e28964fd607c4": {
      "model_module": "@jupyter-widgets/base",
      "model_module_version": "1.2.0",
      "model_name": "LayoutModel",
      "state": {}
     },
     "fdc30801b6e34f44a3004b9a1a4ba850": {
      "model_module": "@jupyter-widgets/controls",
      "model_module_version": "1.5.0",
      "model_name": "DescriptionStyleModel",
      "state": {
       "description_width": ""
      }
     },
     "ff51e0468332439d98c555251f1f87f4": {
      "model_module": "@jupyter-widgets/controls",
      "model_module_version": "1.5.0",
      "model_name": "ProgressStyleModel",
      "state": {
       "description_width": ""
      }
     }
    },
    "version_major": 2,
    "version_minor": 0
   }
  }
 },
 "nbformat": 4,
 "nbformat_minor": 5
}
